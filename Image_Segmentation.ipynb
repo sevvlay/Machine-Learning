{
  "nbformat": 4,
  "nbformat_minor": 0,
  "metadata": {
    "colab": {
      "provenance": [],
      "gpuType": "T4",
      "authorship_tag": "ABX9TyPkFiQ0Tbj36Q2E+Ff1kZ2h",
      "include_colab_link": true
    },
    "kernelspec": {
      "name": "python3",
      "display_name": "Python 3"
    },
    "language_info": {
      "name": "python"
    },
    "accelerator": "GPU"
  },
  "cells": [
    {
      "cell_type": "markdown",
      "metadata": {
        "id": "view-in-github",
        "colab_type": "text"
      },
      "source": [
        "<a href=\"https://colab.research.google.com/github/sevvlay/Machine-Learning/blob/main/Image_Segmentation.ipynb\" target=\"_parent\"><img src=\"https://colab.research.google.com/assets/colab-badge.svg\" alt=\"Open In Colab\"/></a>"
      ]
    },
    {
      "cell_type": "code",
      "execution_count": null,
      "metadata": {
        "id": "3eNVFqbY8L4P"
      },
      "outputs": [],
      "source": [
        "import pandas as pd\n",
        "import numpy as np\n",
        "import matplotlib.pyplot as plt\n",
        "import os\n",
        "import seaborn as sns\n",
        "from tensorflow import keras\n",
        "import tensorflow as tf\n",
        "import tensorflow_datasets as tfds\n",
        "import cv2\n",
        "import PIL\n",
        "from IPython.display import clear_output"
      ]
    },
    {
      "cell_type": "code",
      "source": [
        "sns.set_style(\"whitegrid\")\n",
        "print(f\"TensorFlow Sürümü: {tf.__version__}\")"
      ],
      "metadata": {
        "id": "XP1M2UA3BzUx"
      },
      "execution_count": null,
      "outputs": []
    },
    {
      "cell_type": "code",
      "source": [
        "dataset, info = tfds.load('oxford_iiit_pet:4.0.0', with_info=True)"
      ],
      "metadata": {
        "id": "YJaKxv3a9NU-"
      },
      "execution_count": null,
      "outputs": []
    },
    {
      "cell_type": "code",
      "source": [
        "def load_and_preprocess(datapoint):\n",
        "    # görüntüleri ve maskeleri yeniden boyutlandır\n",
        "    input_image = tf.image.resize(datapoint['image'], (128, 128))\n",
        "    # nearest method\n",
        "    input_mask = tf.image.resize(datapoint['segmentation_mask'], (128, 128), method='nearest')\n",
        "\n",
        "    # fotoğrafın renklerini basitleştir - görüntü piksellerini [0, 1] aralığına normalize et\n",
        "    input_image = tf.cast(input_image, tf.float32) / 255.0\n",
        "\n",
        "    # maske değerlerini [1, 2, 3] aralığından [0, 1, 2] aralığına çek\n",
        "    input_mask -= 1\n",
        "\n",
        "    # boyutlandırma işlemi sayıları ondalıklı yapabilir, sayılar tam sayı olsun\n",
        "    input_mask = tf.cast(input_mask, tf.uint8)\n",
        "\n",
        "    return input_image, input_mask"
      ],
      "metadata": {
        "id": "Oy4FMl6xBupQ"
      },
      "execution_count": null,
      "outputs": []
    },
    {
      "cell_type": "code",
      "source": [
        "# train ve test veri setlerini tf.data pipeline ile hazırlama\n",
        "TRAIN_LENGTH = info.splits['train'].num_examples\n",
        "BATCH_SIZE = 64\n",
        "BUFFER_SIZE = 1000\n",
        "STEPS_PER_EPOCH = TRAIN_LENGTH // BATCH_SIZE\n",
        "\n",
        "train_dataset = dataset['train'].map(load_and_preprocess, num_parallel_calls=tf.data.AUTOTUNE)\n",
        "test_dataset = dataset['test'].map(load_and_preprocess, num_parallel_calls=tf.data.AUTOTUNE)\n",
        "\n",
        "# 64'lü gruplar halinde batch, karışık sırada shuffle veriyoruz.\n",
        "train_batches = (train_dataset.cache().shuffle(BUFFER_SIZE).batch(BATCH_SIZE).repeat().prefetch(buffer_size=tf.data.AUTOTUNE))\n",
        "\n",
        "test_batches = test_dataset.batch(BATCH_SIZE)"
      ],
      "metadata": {
        "id": "XOxIdkKFMPVu"
      },
      "execution_count": null,
      "outputs": []
    },
    {
      "cell_type": "code",
      "source": [
        "# görselleştirme\n",
        "def display(display_list):\n",
        "  plt.figure(figsize=(15, 5))\n",
        "  title = ['Giriş Görüntüsü', 'Gerçek Maske', 'Tahmin Edilen Maske']\n",
        "\n",
        "  for i in range(len(display_list)):\n",
        "    plt.subplot(1, len(display_list), i+1)\n",
        "    plt.title(title[i])\n",
        "    plt.imshow(tf.keras.utils.array_to_img(display_list[i]))\n",
        "    plt.axis('off')\n",
        "  plt.show()\n",
        "\n",
        "# tahmini, anlaşılır görsele dönüştürme\n",
        "def create_mask(pred_mask):\n",
        "    pred_mask = tf.argmax(pred_mask, axis=-1)\n",
        "    pred_mask = pred_mask[..., tf.newaxis]\n",
        "    return pred_mask[0]\n",
        "\n",
        "# örnek\n",
        "for images, masks in train_batches.take(1):\n",
        "    sample_image, sample_mask = images[0], masks[0]\n",
        "    display([sample_image, sample_mask])"
      ],
      "metadata": {
        "id": "wULfrN-hNcGw"
      },
      "execution_count": null,
      "outputs": []
    },
    {
      "cell_type": "markdown",
      "source": [
        "Transfer Learning ile U-Net Modeli Oluşturma"
      ],
      "metadata": {
        "id": "OWI5b5wP2WdX"
      }
    },
    {
      "cell_type": "code",
      "source": [
        "import tensorflow as tf\n",
        "from tensorflow import keras\n",
        "from tensorflow.keras import layers\n",
        "\n",
        "OUTPUT_CHANNELS = 3\n",
        "base_model = tf.keras.applications.MobileNetV2(input_shape=[128, 128, 3], include_top=False)\n",
        "# katman çıktıları\n",
        "layer_names = [\n",
        "    'block_1_expand_relu', 'block_3_expand_relu', 'block_6_expand_relu',\n",
        "    'block_13_expand_relu', 'block_16_project',\n",
        "]\n",
        "base_model_outputs = [base_model.get_layer(name).output for name in layer_names]\n",
        "\n",
        "down_stack = tf.keras.Model(inputs=base_model.input, outputs=base_model_outputs)\n",
        "down_stack.trainable = False\n",
        "\n",
        "# decoder katmanları\n",
        "up_stack = [\n",
        "    layers.Conv2DTranspose(512, 3, strides=2, padding='same'),\n",
        "    layers.Conv2DTranspose(256, 3, strides=2, padding='same'),\n",
        "    layers.Conv2DTranspose(128, 3, strides=2, padding='same'),\n",
        "    layers.Conv2DTranspose(64, 3, strides=2, padding='same'),\n",
        "]\n",
        "\n",
        "def unet_model(output_channels):\n",
        "    inputs = tf.keras.layers.Input(shape=[128, 128, 3])\n",
        "    skips = down_stack(inputs)\n",
        "    x = skips[-1]\n",
        "    skips = reversed(skips[:-1])\n",
        "\n",
        "    for up, skip in zip(up_stack, skips):\n",
        "        x = up(x)\n",
        "        x = tf.keras.layers.Concatenate()([x, skip])\n",
        "\n",
        "    last = tf.keras.layers.Conv2DTranspose(\n",
        "        output_channels, 3, strides=2, padding='same')  # 64x64 -> 128x128\n",
        "\n",
        "    x = last(x)\n",
        "    return tf.keras.Model(inputs=inputs, outputs=x)\n",
        "\n",
        "# modeli oluşturma\n",
        "model = unet_model(OUTPUT_CHANNELS)\n",
        "model.compile(optimizer='adam',\n",
        "              loss=tf.keras.losses.SparseCategoricalCrossentropy(from_logits=True),\n",
        "              metrics=['accuracy'])"
      ],
      "metadata": {
        "id": "FPUigmEZrKfj"
      },
      "execution_count": null,
      "outputs": []
    },
    {
      "cell_type": "code",
      "source": [
        "# interaktif eğitim & callback\n",
        "class DisplayCallback(tf.keras.callbacks.Callback):\n",
        "  def on_epoch_end(self, epoch, logs=None):\n",
        "    clear_output(wait=True)\n",
        "    for image, mask in test_batches.take(1):\n",
        "      pred_mask = model.predict(image)\n",
        "      display([image[0], mask[0], create_mask(pred_mask)])\n",
        "    print(f'\\nEpoch sonrası örnek tahmin gösteriliyor...\\n')\n",
        "\n",
        "EPOCHS = 20\n",
        "\n",
        "print(f\"\\nModel eğitimi {EPOCHS} epoch için başlatılıyor...\")\n",
        "model_history = model.fit(train_batches, epochs=EPOCHS,\n",
        "                          steps_per_epoch=STEPS_PER_EPOCH,\n",
        "                          validation_data=test_batches,\n",
        "                          callbacks=[DisplayCallback()])\n",
        "\n",
        "print(\"Model eğitimi tamamlandı!\")"
      ],
      "metadata": {
        "id": "pf9ui-Q62g6R"
      },
      "execution_count": null,
      "outputs": []
    },
    {
      "cell_type": "code",
      "source": [
        "# eğitim sonuçları değerlendirme (seaborn & matplotlib)\n",
        "history_df = pd.DataFrame(model_history.history)\n",
        "history_df['epoch'] = range(1, len(history_df) + 1)\n",
        "\n",
        "# loss grafiği\n",
        "plt.figure(figsize=(14, 6))\n",
        "plt.subplot(1, 2, 1)\n",
        "sns.lineplot(x='epoch', y='loss', data=history_df, label='Eğitim Kaybı')\n",
        "sns.lineplot(x='epoch', y='val_loss', data=history_df, label='Test Kaybı')\n",
        "plt.title('Eğitim ve Test Kaybı')\n",
        "plt.xlabel('Epoch')\n",
        "plt.ylabel('Kayıp')\n",
        "\n",
        "# accuracy grafiği\n",
        "plt.subplot(1, 2, 2)\n",
        "sns.lineplot(x='epoch', y='accuracy', data=history_df, label='Eğitim Doğruluğu')\n",
        "sns.lineplot(x='epoch', y='val_accuracy', data=history_df, label='Test Doğruluğu')\n",
        "plt.title('Eğitim ve Test Doğruluğu')\n",
        "plt.xlabel('Epoch')\n",
        "plt.ylabel('Doğruluk')\n",
        "\n",
        "plt.suptitle(\"Model Eğitim Metrikleri\", fontsize=16)\n",
        "plt.tight_layout(rect=[0, 0.03, 1, 0.95])\n",
        "plt.show()"
      ],
      "metadata": {
        "id": "DolKRnwlJEmL"
      },
      "execution_count": null,
      "outputs": []
    }
  ]
}