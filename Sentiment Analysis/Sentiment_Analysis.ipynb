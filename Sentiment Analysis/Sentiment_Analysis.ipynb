{
  "nbformat": 4,
  "nbformat_minor": 0,
  "metadata": {
    "colab": {
      "provenance": []
    },
    "kernelspec": {
      "name": "python3",
      "display_name": "Python 3"
    },
    "language_info": {
      "name": "python"
    }
  },
  "cells": [
    {
      "cell_type": "code",
      "source": [
        "import os\n",
        "import re\n",
        "import zipfile\n",
        "import pandas as pd\n",
        "import numpy as np\n",
        "import kagglehub\n",
        "import nltk\n",
        "from bs4 import BeautifulSoup\n",
        "from sklearn.model_selection import train_test_split\n",
        "from sklearn.feature_extraction.text import TfidfVectorizer\n",
        "from sklearn.linear_model import LogisticRegression\n",
        "from sklearn.metrics import accuracy_score, classification_report, confusion_matrix"
      ],
      "metadata": {
        "id": "pP64g2JGdbQs"
      },
      "execution_count": 15,
      "outputs": []
    },
    {
      "cell_type": "code",
      "source": [
        "df = pd.read_csv('IMDB Dataset.csv')\n",
        "print(\"Veri Setinin İlk 5 Satırı:\")\n",
        "print(df.head())\n",
        "\n",
        "print(\"\\nVeri Seti Bilgisi:\")\n",
        "df.info()\n",
        "\n",
        "print(\"\\nDuygu Dağılımı:\")\n",
        "print(df['sentiment'].value_counts())"
      ],
      "metadata": {
        "colab": {
          "base_uri": "https://localhost:8080/"
        },
        "id": "LgqOc7CNd-w9",
        "outputId": "431b0b4b-55ab-493d-ea53-5acb5dee738a"
      },
      "execution_count": 16,
      "outputs": [
        {
          "output_type": "stream",
          "name": "stdout",
          "text": [
            "Veri Setinin İlk 5 Satırı:\n",
            "                                              review sentiment\n",
            "0  One of the other reviewers has mentioned that ...  positive\n",
            "1  A wonderful little production. <br /><br />The...  positive\n",
            "2  I thought this was a wonderful way to spend ti...  positive\n",
            "3  Basically there's a family where a little boy ...  negative\n",
            "4  Petter Mattei's \"Love in the Time of Money\" is...  positive\n",
            "\n",
            "Veri Seti Bilgisi:\n",
            "<class 'pandas.core.frame.DataFrame'>\n",
            "RangeIndex: 50000 entries, 0 to 49999\n",
            "Data columns (total 2 columns):\n",
            " #   Column     Non-Null Count  Dtype \n",
            "---  ------     --------------  ----- \n",
            " 0   review     50000 non-null  object\n",
            " 1   sentiment  50000 non-null  object\n",
            "dtypes: object(2)\n",
            "memory usage: 781.4+ KB\n",
            "\n",
            "Duygu Dağılımı:\n",
            "sentiment\n",
            "positive    25000\n",
            "negative    25000\n",
            "Name: count, dtype: int64\n"
          ]
        }
      ]
    },
    {
      "cell_type": "code",
      "source": [
        "nltk.download('stopwords', quiet=True)\n",
        "stop_words = set(stopwords.words('english'))\n",
        "\n",
        "def clean_text(text):\n",
        "\n",
        "    # 1. Remove HTML tags\n",
        "    text = BeautifulSoup(text, \"html.parser\").get_text()\n",
        "\n",
        "    # 2. Remove non-alphabetic characters\n",
        "    text = re.sub(r'[^a-zA-Z\\s]', '', text)\n",
        "\n",
        "    # 3. Convert to lowercase\n",
        "    text = text.lower()\n",
        "\n",
        "    # 4. Split into words and remove stopwords\n",
        "    words = text.split()\n",
        "    words = [w for w in words if w not in stop_words]\n",
        "\n",
        "    # 5. Join words back into a single string\n",
        "    return ' '.join(words)\n",
        "\n",
        "df['cleaned_review'] = df['review'].apply(clean_text)\n",
        "print(df[['review', 'cleaned_review']].iloc[0].values)"
      ],
      "metadata": {
        "colab": {
          "base_uri": "https://localhost:8080/"
        },
        "id": "WMx0PxZlfKPU",
        "outputId": "ab9ee7c4-aa31-4647-9526-07c1387db4bb"
      },
      "execution_count": 17,
      "outputs": [
        {
          "output_type": "stream",
          "name": "stdout",
          "text": [
            "[\"One of the other reviewers has mentioned that after watching just 1 Oz episode you'll be hooked. They are right, as this is exactly what happened with me.<br /><br />The first thing that struck me about Oz was its brutality and unflinching scenes of violence, which set in right from the word GO. Trust me, this is not a show for the faint hearted or timid. This show pulls no punches with regards to drugs, sex or violence. Its is hardcore, in the classic use of the word.<br /><br />It is called OZ as that is the nickname given to the Oswald Maximum Security State Penitentary. It focuses mainly on Emerald City, an experimental section of the prison where all the cells have glass fronts and face inwards, so privacy is not high on the agenda. Em City is home to many..Aryans, Muslims, gangstas, Latinos, Christians, Italians, Irish and more....so scuffles, death stares, dodgy dealings and shady agreements are never far away.<br /><br />I would say the main appeal of the show is due to the fact that it goes where other shows wouldn't dare. Forget pretty pictures painted for mainstream audiences, forget charm, forget romance...OZ doesn't mess around. The first episode I ever saw struck me as so nasty it was surreal, I couldn't say I was ready for it, but as I watched more, I developed a taste for Oz, and got accustomed to the high levels of graphic violence. Not just violence, but injustice (crooked guards who'll be sold out for a nickel, inmates who'll kill on order and get away with it, well mannered, middle class inmates being turned into prison bitches due to their lack of street skills or prison experience) Watching Oz, you may become comfortable with what is uncomfortable viewing....thats if you can get in touch with your darker side.\"\n",
            " 'one reviewers mentioned watching oz episode youll hooked right exactly happened methe first thing struck oz brutality unflinching scenes violence set right word go trust show faint hearted timid show pulls punches regards drugs sex violence hardcore classic use wordit called oz nickname given oswald maximum security state penitentary focuses mainly emerald city experimental section prison cells glass fronts face inwards privacy high agenda em city home manyaryans muslims gangstas latinos christians italians irish moreso scuffles death stares dodgy dealings shady agreements never far awayi would say main appeal show due fact goes shows wouldnt dare forget pretty pictures painted mainstream audiences forget charm forget romanceoz doesnt mess around first episode ever saw struck nasty surreal couldnt say ready watched developed taste oz got accustomed high levels graphic violence violence injustice crooked guards wholl sold nickel inmates wholl kill order get away well mannered middle class inmates turned prison bitches due lack street skills prison experience watching oz may become comfortable uncomfortable viewingthats get touch darker side']\n"
          ]
        }
      ]
    },
    {
      "cell_type": "code",
      "source": [
        "X = df['cleaned_review']\n",
        "Y = df['sentiment']\n",
        "\n",
        "X_train, X_test, y_train, y_test = train_test_split(X, Y, test_size=0.2, random_state=42)\n",
        "print(f\"Data split into {len(X_train)} training samples and {len(X_test)} testing samples.\")"
      ],
      "metadata": {
        "colab": {
          "base_uri": "https://localhost:8080/"
        },
        "id": "6FzKjY9mSKed",
        "outputId": "011d8753-87fd-4581-91fa-174042b9a032"
      },
      "execution_count": 18,
      "outputs": [
        {
          "output_type": "stream",
          "name": "stdout",
          "text": [
            "Data split into 40000 training samples and 10000 testing samples.\n"
          ]
        }
      ]
    },
    {
      "cell_type": "code",
      "source": [
        "tfidf_vectorizer = TfidfVectorizer(\n",
        "    max_features=5000,\n",
        "    ngram_range=(1, 2)\n",
        ")\n",
        "\n",
        "# fit the vectorizer on the training data and transform it\n",
        "X_train_tfidf = tfidf_vectorizer.fit_transform(X_train)\n",
        "\n",
        "# transform the test data using the already-fitted vectorizer\n",
        "X_test_tfidf = tfidf_vectorizer.transform(X_test)"
      ],
      "metadata": {
        "id": "Q2dHwFRdnYYt"
      },
      "execution_count": 24,
      "outputs": []
    },
    {
      "cell_type": "code",
      "source": [
        "# initialize and train the model\n",
        "model = LogisticRegression(solver='liblinear', random_state=42)\n",
        "model.fit(X_train_tfidf, y_train)\n",
        "\n",
        "# make predictions on the test set\n",
        "y_pred = model.predict(X_test_tfidf)\n",
        "\n",
        "# performance\n",
        "accuracy = accuracy_score(y_test, y_pred)\n",
        "print(f\"Model Accuracy: {accuracy}\")\n",
        "\n",
        "print(\"\\nClassification Report:\")\n",
        "print(classification_report(y_test, y_pred))\n",
        "\n",
        "print(\"\\nConfusion Matrix:\")\n",
        "print(confusion_matrix(y_test, y_pred))"
      ],
      "metadata": {
        "colab": {
          "base_uri": "https://localhost:8080/"
        },
        "id": "6lCf4INuoNBt",
        "outputId": "2e6f3d8d-5e27-4850-f3b1-a0a2c5a13620"
      },
      "execution_count": 25,
      "outputs": [
        {
          "output_type": "stream",
          "name": "stdout",
          "text": [
            "Model Accuracy: 0.8899\n",
            "\n",
            "Classification Report:\n",
            "              precision    recall  f1-score   support\n",
            "\n",
            "    negative       0.90      0.87      0.89      4961\n",
            "    positive       0.88      0.91      0.89      5039\n",
            "\n",
            "    accuracy                           0.89     10000\n",
            "   macro avg       0.89      0.89      0.89     10000\n",
            "weighted avg       0.89      0.89      0.89     10000\n",
            "\n",
            "\n",
            "Confusion Matrix:\n",
            "[[4330  631]\n",
            " [ 470 4569]]\n"
          ]
        }
      ]
    },
    {
      "cell_type": "code",
      "source": [
        "def predict_sentiment(new_review):\n",
        "  cleaned_review = clean_text(new_review)\n",
        "  vectorized_review = tfidf_vectorizer.transform([cleaned_review])\n",
        "\n",
        "  # Predict the sentiment using the trained model\n",
        "  prediction = model.predict(vectorized_review)\n",
        "\n",
        "  # Predict the probabilities\n",
        "  probability = model.predict_proba(vectorized_review)\n",
        "\n",
        "  print(f\"\\nReview: '{new_review}'\")\n",
        "  if prediction[0] == 'positive':\n",
        "        print(f\"--> Predicted Sentiment: POSITIVE (Confidence: {probability[0][1]:.2%})\")\n",
        "  else:\n",
        "        print(f\"--> Predicted Sentiment: NEGATIVE (Confidence: {probability[0][0]:.2%})\")"
      ],
      "metadata": {
        "id": "NS9r9fjM7mhB"
      },
      "execution_count": 26,
      "outputs": []
    },
    {
      "cell_type": "code",
      "source": [
        "# Example\n",
        "new_review = \"This movie was absolutely fantastic! I loved every moment of it.\"\n",
        "predict_sentiment(new_review)\n",
        "\n",
        "new_review = \"This movie was terrible and boring.\"\n",
        "predict_sentiment(new_review)"
      ],
      "metadata": {
        "colab": {
          "base_uri": "https://localhost:8080/"
        },
        "id": "jkC21CQYUMSH",
        "outputId": "9717ac1c-0212-4ca5-9bbb-028c013aed29"
      },
      "execution_count": 27,
      "outputs": [
        {
          "output_type": "stream",
          "name": "stdout",
          "text": [
            "\n",
            "Review: 'This movie was absolutely fantastic! I loved every moment of it.'\n",
            "--> Predicted Sentiment: POSITIVE (Confidence: 95.82%)\n",
            "\n",
            "Review: 'This movie was terrible and boring.'\n",
            "--> Predicted Sentiment: NEGATIVE (Confidence: 99.87%)\n"
          ]
        }
      ]
    },
    {
      "cell_type": "code",
      "source": [
        "print(\"\\n--- Testing with new reviews ---\")\n",
        "predict_sentiment(\"This movie was absolutely brilliant! The storyline was engaging and the actors were perfect.\")\n",
        "predict_sentiment(\"A complete waste of money and time. The plot was predictable and the acting was horrendous.\")\n",
        "predict_sentiment(\"It was an okay movie, not great but not bad either.\")"
      ],
      "metadata": {
        "colab": {
          "base_uri": "https://localhost:8080/"
        },
        "id": "19o3Hv9WUO5t",
        "outputId": "b9392f0e-394d-4ee3-fb5c-2e47c1f3253d"
      },
      "execution_count": 28,
      "outputs": [
        {
          "output_type": "stream",
          "name": "stdout",
          "text": [
            "\n",
            "--- Testing with new reviews ---\n",
            "\n",
            "Review: 'This movie was absolutely brilliant! The storyline was engaging and the actors were perfect.'\n",
            "--> Predicted Sentiment: POSITIVE (Confidence: 95.40%)\n",
            "\n",
            "Review: 'A complete waste of money and time. The plot was predictable and the acting was horrendous.'\n",
            "--> Predicted Sentiment: NEGATIVE (Confidence: 99.79%)\n",
            "\n",
            "Review: 'It was an okay movie, not great but not bad either.'\n",
            "--> Predicted Sentiment: NEGATIVE (Confidence: 83.97%)\n"
          ]
        }
      ]
    },
    {
      "cell_type": "code",
      "source": [],
      "metadata": {
        "id": "1awmpjkRV-yn"
      },
      "execution_count": null,
      "outputs": []
    }
  ]
}